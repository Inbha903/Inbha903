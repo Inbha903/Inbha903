{
  "nbformat": 4,
  "nbformat_minor": 0,
  "metadata": {
    "colab": {
      "provenance": [],
      "collapsed_sections": []
    },
    "kernelspec": {
      "name": "python3",
      "display_name": "Python 3"
    },
    "language_info": {
      "name": "python"
    }
  },
  "cells": [
    {
      "cell_type": "markdown",
      "source": [
        "# Basic Python"
      ],
      "metadata": {
        "id": "McSxJAwcOdZ1"
      }
    },
    {
      "cell_type": "markdown",
      "source": [
        "## 1. Split this string"
      ],
      "metadata": {
        "id": "CU48hgo4Owz5"
      }
    },
    {
      "cell_type": "code",
      "source": [
        "s = \"Hi there Sam!\""
      ],
      "metadata": {
        "id": "s07c7JK7Oqt-"
      },
      "execution_count": null,
      "outputs": []
    },
    {
      "cell_type": "code",
      "source": [
        "s= \" Hi there sam!\" \n",
        "x=s.split(\" \") \n",
        "print(x)\n",
        "['', 'Hi', 'there', 'sam!']\n",
        "\n"
      ],
      "metadata": {
        "id": "6mGVa3SQYLkb"
      },
      "execution_count": null,
      "outputs": []
    },
    {
      "cell_type": "markdown",
      "source": [
        "## 2. Use .format() to print the following string. \n",
        "\n",
        "### Output should be: The diameter of Earth is 12742 kilometers."
      ],
      "metadata": {
        "id": "GH1QBn8HP375"
      }
    },
    {
      "cell_type": "code",
      "source": [
        "planet = \"Earth\"\n",
        "diameter = 12742"
      ],
      "metadata": {
        "id": "_ZHoml3kPqic"
      },
      "execution_count": null,
      "outputs": []
    },
    {
      "cell_type": "code",
      "source": [
        "x=\"The diameter of {} is {} kilometers\"\n",
        "print(x.format(planet,diameter))\n",
        "The diameter of Earth is 12742 kilometers\n",
        "\n"
      ],
      "metadata": {
        "id": "HyRyJv6CYPb4"
      },
      "execution_count": null,
      "outputs": []
    },
    {
      "cell_type": "markdown",
      "source": [
        "## 3. In this nest dictionary grab the word \"hello\""
      ],
      "metadata": {
        "id": "KE74ZEwkRExZ"
      }
    },
    {
      "cell_type": "code",
      "source": [
        "d = {'k1':[1,2,3,{'tricky':['oh','man','inception',{'target':[1,2,3,'hello']}]}]}"
      ],
      "metadata": {
        "id": "fcVwbCc1QrQI"
      },
      "execution_count": null,
      "outputs": []
    },
    {
      "cell_type": "code",
      "source": [
        "\n",
        "\n",
        "print(d['k1'][3][\"tricky\"][3]['target'][3])\n",
        "\n",
        "hello\n",
        "\n"
      ],
      "metadata": {
        "id": "MvbkMZpXYRaw"
      },
      "execution_count": null,
      "outputs": []
    },
    {
      "cell_type": "markdown",
      "source": [
        "# Numpy"
      ],
      "metadata": {
        "id": "bw0vVp-9ddjv"
      }
    },
    {
      "cell_type": "code",
      "source": [
        "import numpy as np"
      ],
      "metadata": {
        "id": "LLiE_TYrhA1O"
      },
      "execution_count": null,
      "outputs": []
    },
    {
      "cell_type": "markdown",
      "source": [
        "## 4.1 Create an array of 10 zeros? \n",
        "## 4.2 Create an array of 10 fives?"
      ],
      "metadata": {
        "id": "wOg8hinbgx30"
      }
    },
    {
      "cell_type": "code",
      "source": [
        "\n",
        "\n",
        "zeros=np.zeros(10)\n",
        "print(zeros)\n",
        "\n",
        "[0. 0. 0. 0. 0. 0. 0. 0. 0. 0.]\n",
        "\n"
      ],
      "metadata": {
        "id": "NHrirmgCYXvU"
      },
      "execution_count": null,
      "outputs": []
    },
    {
      "cell_type": "code",
      "source": [
        "\n",
        "\n",
        "fives=np.ones(10)*5\n",
        "print(fives)\n",
        "\n",
        "[5. 5. 5. 5. 5. 5. 5. 5. 5. 5.]\n",
        "\n"
      ],
      "metadata": {
        "id": "e4005lsTYXxx"
      },
      "execution_count": null,
      "outputs": []
    },
    {
      "cell_type": "markdown",
      "source": [
        "## 5. Create an array of all the even integers from 20 to 35"
      ],
      "metadata": {
        "id": "gZHHDUBvrMX4"
      }
    },
    {
      "cell_type": "code",
      "source": [
        "\n",
        "\n",
        "array=np.arange(20,36,2)\n",
        "print(array)\n",
        "\n",
        "[20 22 24 26 28 30 32 34]\n",
        "\n"
      ],
      "metadata": {
        "id": "oAI2tbU2Yag-"
      },
      "execution_count": null,
      "outputs": []
    },
    {
      "cell_type": "markdown",
      "source": [
        "## 6. Create a 3x3 matrix with values ranging from 0 to 8"
      ],
      "metadata": {
        "id": "NaOM308NsRpZ"
      }
    },
    {
      "cell_type": "code",
      "source": [
        "\n",
        "\n",
        "matrix=np.arange(0,9).reshape(3,3)\n",
        "print(matrix)\n",
        "\n",
        "[[0 1 2]\n",
        " [3 4 5]\n",
        " [6 7 8]]\n",
        "\n"
      ],
      "metadata": {
        "id": "tOlEVH7BYceE"
      },
      "execution_count": null,
      "outputs": []
    },
    {
      "cell_type": "markdown",
      "source": [
        "## 7. Concatenate a and b \n",
        "## a = np.array([1, 2, 3]), b = np.array([4, 5, 6])"
      ],
      "metadata": {
        "id": "hQ0dnhAQuU_p"
      }
    },
    {
      "cell_type": "code",
      "source": [
        "\n",
        "\n",
        "a = np.array([1, 2, 3])\n",
        "b = np.array([4, 5, 6])\n",
        "c = np.concatenate((a,b))\n",
        "print(c)\n",
        "\n",
        "[1 2 3 4 5 6]\n",
        "\n"
      ],
      "metadata": {
        "id": "rAPSw97aYfE0"
      },
      "execution_count": null,
      "outputs": []
    },
    {
      "cell_type": "markdown",
      "source": [
        "# Pandas"
      ],
      "metadata": {
        "id": "dlPEY9DRwZga"
      }
    },
    {
      "cell_type": "markdown",
      "source": [
        "## 8. Create a dataframe with 3 rows and 2 columns"
      ],
      "metadata": {
        "id": "ijoYW51zwr87"
      }
    },
    {
      "cell_type": "code",
      "source": [
        "import pandas as pd\n"
      ],
      "metadata": {
        "id": "T5OxJRZ8uvR7"
      },
      "execution_count": null,
      "outputs": []
    },
    {
      "cell_type": "code",
      "source": [
        "\n",
        "\n",
        "data = {'Name': ['Tom', 'John', 'Krish'], 'Age': [21, 20, 19]}\n",
        "df=pd.DataFrame(data,index=[1,2,3])\n",
        "df\n",
        "\n",
        "\tName \tAge\n",
        "1 \tTom \t21\n",
        "2 \tJohn \t20\n",
        "3 \tKrish \t19"
      ],
      "metadata": {
        "id": "xNpI_XXoYhs0"
      },
      "execution_count": null,
      "outputs": []
    },
    {
      "cell_type": "markdown",
      "source": [
        "## 9. Generate the series of dates from 1st Jan, 2023 to 10th Feb, 2023"
      ],
      "metadata": {
        "id": "UXSmdNclyJQD"
      }
    },
    {
      "cell_type": "code",
      "source": [
        "\n",
        "\n",
        "period = pd.date_range(start ='01-01-2023', end ='02-10-2023')\n",
        "for val in period:\n",
        "    print(val)\n",
        "\n",
        "2023-01-01 00:00:00\n",
        "2023-01-02 00:00:00\n",
        "2023-01-03 00:00:00\n",
        "2023-01-04 00:00:00\n",
        "2023-01-05 00:00:00\n",
        "2023-01-06 00:00:00\n",
        "2023-01-07 00:00:00\n",
        "2023-01-08 00:00:00\n",
        "2023-01-09 00:00:00\n",
        "2023-01-10 00:00:00\n",
        "2023-01-11 00:00:00\n",
        "2023-01-12 00:00:00\n",
        "2023-01-13 00:00:00\n",
        "2023-01-14 00:00:00\n",
        "2023-01-15 00:00:00\n",
        "2023-01-16 00:00:00\n",
        "2023-01-17 00:00:00\n",
        "2023-01-18 00:00:00\n",
        "2023-01-19 00:00:00\n",
        "2023-01-20 00:00:00\n",
        "2023-01-21 00:00:00\n",
        "2023-01-22 00:00:00\n",
        "2023-01-23 00:00:00\n",
        "2023-01-24 00:00:00\n",
        "2023-01-25 00:00:00\n",
        "2023-01-26 00:00:00\n",
        "2023-01-27 00:00:00\n",
        "2023-01-28 00:00:00\n",
        "2023-01-29 00:00:00\n",
        "2023-01-30 00:00:00\n",
        "2023-01-31 00:00:00\n",
        "2023-02-01 00:00:00\n",
        "2023-02-02 00:00:00\n",
        "2023-02-03 00:00:00\n",
        "2023-02-04 00:00:00\n",
        "2023-02-05 00:00:00\n",
        "2023-02-06 00:00:00\n",
        "2023-02-07 00:00:00\n",
        "2023-02-08 00:00:00\n",
        "2023-02-09 00:00:00\n",
        "2023-02-10 00:00:00\n",
        "\n"
      ],
      "metadata": {
        "id": "dgyC0JhVYl4F"
      },
      "execution_count": null,
      "outputs": []
    },
    {
      "cell_type": "markdown",
      "source": [
        "## 10. Create 2D list to DataFrame\n",
        "\n",
        "lists = [[1, 'aaa', 22],\n",
        "         [2, 'bbb', 25],\n",
        "         [3, 'ccc', 24]]"
      ],
      "metadata": {
        "id": "ZizSetD-y5az"
      }
    },
    {
      "cell_type": "code",
      "source": [
        "lists = [[1, 'aaa', 22], [2, 'bbb', 25], [3, 'ccc', 24]]"
      ],
      "metadata": {
        "id": "_XMC8aEt0llB"
      },
      "execution_count": null,
      "outputs": []
    },
    {
      "cell_type": "code",
      "source": [
        "\n",
        "\n",
        "df = pd.DataFrame(lists, columns =['1-digits', 'letters','2-digits']) \n",
        "print(df)\n",
        "\n",
        "   1-digits letters  2-digits\n",
        "0         1     aaa        22\n",
        "1         2     bbb        25\n",
        "2         3     ccc        24\n",
        "\n"
      ],
      "metadata": {
        "id": "knH76sDKYsVX"
      },
      "execution_count": null,
      "outputs": []
    }
  ]
}